{
 "cells": [
  {
   "cell_type": "markdown",
   "metadata": {},
   "source": [
    "Definition and Usage\n",
    "The abs() method returns a DataFrame with the absolute value of each value."
   ]
  },
  {
   "cell_type": "code",
   "execution_count": 1,
   "metadata": {},
   "outputs": [
    {
     "name": "stdout",
     "output_type": "stream",
     "text": [
      "    0   1   2\n",
      "0  50  40  30\n",
      "1   1   2   2\n"
     ]
    }
   ],
   "source": [
    "import pandas as pd\n",
    "\n",
    "data = [[-50, 40, 30], [-1, 2, -2]]\n",
    "df = pd.DataFrame(data)\n",
    "\n",
    "print(df.abs())"
   ]
  },
  {
   "cell_type": "markdown",
   "metadata": {},
   "source": [
    "The add() method adds each value in the DataFrame with a specified value.\n",
    "\n",
    "The specified value must be an object that can be added to the values of the DataFrame. It can be a constant number like the one in the example, or it can be a list-like object like a list [15, 20] or a tuple {\"points\": 380, \"total\": 22}, or a  Pandas Series or another DataFrame, that fits with the original DataFrame."
   ]
  },
  {
   "cell_type": "code",
   "execution_count": 3,
   "metadata": {},
   "outputs": [
    {
     "name": "stdout",
     "output_type": "stream",
     "text": [
      "   points  total\n",
      "0     115    365\n",
      "1     135    355\n",
      "2     129    417\n"
     ]
    }
   ],
   "source": [
    "import pandas as pd\n",
    "\n",
    "data = {\n",
    "  \"points\": [100, 120, 114],\n",
    "  \"total\": [350, 340, 402]\n",
    "}\n",
    "\n",
    "df = pd.DataFrame(data)\n",
    "\n",
    "print(df.add(15))"
   ]
  },
  {
   "cell_type": "markdown",
   "metadata": {},
   "source": [
    "The add_prefix() method inserts the specified value in front of the column label.\n",
    "\n",
    "To add a value after the column label, use the  add_suffix() method."
   ]
  },
  {
   "cell_type": "code",
   "execution_count": 5,
   "metadata": {},
   "outputs": [
    {
     "name": "stdout",
     "output_type": "stream",
     "text": [
      "   person_age  person_qualified\n",
      "0          50              True\n",
      "1          40             False\n",
      "2          30             False\n",
      "3          40             False\n",
      "4          20             False\n",
      "5          10              True\n",
      "6          30              True\n"
     ]
    }
   ],
   "source": [
    "import pandas as pd\n",
    "\n",
    "data = {\n",
    "  \"age\": [50, 40, 30, 40, 20, 10, 30],\n",
    "  \"qualified\": [True, False, False, False, False, True, True]\n",
    "}\n",
    "df = pd.DataFrame(data)\n",
    "\n",
    "newdf = df.add_prefix(\"person_\")\n",
    "\n",
    "print(newdf)"
   ]
  },
  {
   "cell_type": "markdown",
   "metadata": {},
   "source": [
    "The add_suffix() method inserts the specified value at the end of each column label."
   ]
  },
  {
   "cell_type": "code",
   "execution_count": 6,
   "metadata": {},
   "outputs": [],
   "source": [
    "import pandas as pd\n",
    "\n",
    "data = {\n",
    "  \"age\": [50, 40, 30, 40, 20, 10, 30],\n",
    "  \"qualified\": [True, False, False, False, False, True, True]\n",
    "}\n",
    "df = pd.DataFrame(data)\n",
    "\n",
    "newdf = df.add_suffix(\"_after\")"
   ]
  },
  {
   "cell_type": "markdown",
   "metadata": {},
   "source": [
    "The agg() method allows you to apply a function or a list of function names to be executed along one of the axis of the DataFrame, default 0, which is the index (row) axis."
   ]
  },
  {
   "cell_type": "code",
   "execution_count": 7,
   "metadata": {},
   "outputs": [
    {
     "name": "stdout",
     "output_type": "stream",
     "text": [
      "       x     y\n",
      "sum  120  1454\n"
     ]
    }
   ],
   "source": [
    "import pandas as pd\n",
    "\n",
    "data = {\n",
    "  \"x\": [50, 40, 30],\n",
    "  \"y\": [300, 1112, 42]\n",
    "}\n",
    "\n",
    "df = pd.DataFrame(data)\n",
    "\n",
    "x = df.agg([\"sum\"])\n",
    "\n",
    "print(x)"
   ]
  },
  {
   "cell_type": "markdown",
   "metadata": {},
   "source": [
    "The aggregate() method allows you to apply a function or a list of function names to be executed along one of the axis of the DataFrame, default 0, which is the index (row) axis.\n",
    "\n",
    "Note: the agg() method is an alias of the aggregate() method."
   ]
  },
  {
   "cell_type": "code",
   "execution_count": 8,
   "metadata": {},
   "outputs": [
    {
     "name": "stdout",
     "output_type": "stream",
     "text": [
      "       x     y\n",
      "sum  120  1454\n"
     ]
    }
   ],
   "source": [
    "import pandas as pd\n",
    "\n",
    "data = {\n",
    "  \"x\": [50, 40, 30],\n",
    "  \"y\": [300, 1112, 42]\n",
    "}\n",
    "\n",
    "df = pd.DataFrame(data)\n",
    "\n",
    "x = df.aggregate([\"sum\"])\n",
    "\n",
    "print(x)"
   ]
  },
  {
   "cell_type": "markdown",
   "metadata": {},
   "source": [
    "The corr() method finds the correlation of each column in a DataFrame."
   ]
  },
  {
   "cell_type": "code",
   "execution_count": 10,
   "metadata": {},
   "outputs": [
    {
     "name": "stdout",
     "output_type": "stream",
     "text": [
      "          Duration     Pulse  Calories\n",
      "Duration  1.000000 -0.917663 -0.507551\n",
      "Pulse    -0.917663  1.000000  0.808134\n",
      "Calories -0.507551  0.808134  1.000000\n"
     ]
    }
   ],
   "source": [
    "import pandas as pd\n",
    "\n",
    "data = {\n",
    "  \"Duration\": [50, 40, 45],\n",
    "  \"Pulse\": [109, 117, 110],\n",
    "  \"Calories\": [409.1, 479.5, 340.8]\n",
    "}\n",
    "\n",
    "df = pd.DataFrame(data)\n",
    "\n",
    "print(df.corr())"
   ]
  },
  {
   "cell_type": "code",
   "execution_count": null,
   "metadata": {},
   "outputs": [],
   "source": []
  }
 ],
 "metadata": {
  "kernelspec": {
   "display_name": "Python 3",
   "language": "python",
   "name": "python3"
  },
  "language_info": {
   "codemirror_mode": {
    "name": "ipython",
    "version": 3
   },
   "file_extension": ".py",
   "mimetype": "text/x-python",
   "name": "python",
   "nbconvert_exporter": "python",
   "pygments_lexer": "ipython3",
   "version": "3.11.3"
  }
 },
 "nbformat": 4,
 "nbformat_minor": 2
}
